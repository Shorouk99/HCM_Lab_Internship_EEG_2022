{
 "cells": [
  {
   "cell_type": "markdown",
   "metadata": {},
   "source": [
    "# Streaming Multiple Motion Capture Markers\n",
    "In this notebook, multiple motion capture markers are streamed, where each marker represents a channel whose data is structured string"
   ]
  },
  {
   "cell_type": "code",
   "execution_count": null,
   "metadata": {},
   "outputs": [],
   "source": [
    "import asyncio\n",
    "import qtm\n",
    "from pylsl import StreamInfo, StreamOutlet, local_clock"
   ]
  },
  {
   "cell_type": "code",
   "execution_count": 2,
   "metadata": {},
   "outputs": [],
   "source": [
    "n_channels = 6\n",
    "info = StreamInfo('QTM_multi', 'Motion Capture', n_channels, 300, 3, 'multi5')\n",
    "outlet = StreamOutlet(info)"
   ]
  },
  {
   "cell_type": "code",
   "execution_count": 3,
   "metadata": {},
   "outputs": [],
   "source": [
    "def on_packet(packet):\n",
    "    print(\"\\nFramenumber: {}\".format(packet.framenumber))\n",
    "    header, markers = packet.get_3d_markers()\n",
    "    counter = 1\n",
    "    dictionary = {}\n",
    "    for marker in markers:\n",
    "        #print (marker)\n",
    "        coor = str(marker)[19:-1]\n",
    "        key = 'marker' + str(counter)\n",
    "        dictionary[key] = coor\n",
    "        counter += 1\n",
    "        \n",
    "    print(dictionary)\n",
    "    print (local_clock(), '\\n')\n",
    "    #print(list(dictionary.values()))\n",
    "    push = list(dictionary.values())\n",
    "    push.append(format(packet.framenumber))\n",
    "    outlet.push_chunk(push)\n",
    "#     outlet.push_chunk(list(dictionary.values()))"
   ]
  },
  {
   "cell_type": "code",
   "execution_count": 4,
   "metadata": {},
   "outputs": [],
   "source": [
    "async def setup():\n",
    "    \"\"\" Main function \"\"\"\n",
    "    connection = await qtm.connect(\"127.0.0.1\")\n",
    "    if connection is None:\n",
    "        return\n",
    "\n",
    "    await connection.stream_frames(components=[\"3d\"], on_packet=on_packet)"
   ]
  },
  {
   "cell_type": "code",
   "execution_count": null,
   "metadata": {
    "scrolled": false
   },
   "outputs": [],
   "source": [
    "asyncio.ensure_future(setup())\n",
    "asyncio.get_event_loop().run_forever()"
   ]
  }
 ],
 "metadata": {
  "kernelspec": {
   "display_name": "Python 3",
   "language": "python",
   "name": "python3"
  },
  "language_info": {
   "codemirror_mode": {
    "name": "ipython",
    "version": 3
   },
   "file_extension": ".py",
   "mimetype": "text/x-python",
   "name": "python",
   "nbconvert_exporter": "python",
   "pygments_lexer": "ipython3",
   "version": "3.8.5"
  }
 },
 "nbformat": 4,
 "nbformat_minor": 5
}
